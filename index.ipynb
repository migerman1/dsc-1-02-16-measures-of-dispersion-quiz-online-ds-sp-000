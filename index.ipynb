{
 "cells": [
  {
   "cell_type": "markdown",
   "metadata": {},
   "source": [
    "# Measures of Dispersion - Quiz\n",
    "\n",
    "## Objectives\n",
    "You will be able to:\n",
    "* Describe the significance of calculating measures of dispersion for continuous data\n",
    "* Understand the formula and intuition behind mean absolute deviation, standard deviation and variance\n",
    "* Understand the formula and intuition behind quantiles/quartiles and percentiles\n",
    "* Understand and interpret Interquartile distances with box plots"
   ]
  },
  {
   "cell_type": "markdown",
   "metadata": {},
   "source": [
    "## Exercise 1\n",
    "Summary statistics for two samples of data are\n",
    "```\n",
    "Sample 1:\t\n",
    "mean = 19 \n",
    "variance = 10\n",
    "\n",
    "Sample 2:\t\n",
    "mean = 10\n",
    "variance = 19\n",
    "```\n",
    "Which sample has the larger spread of observations?"
   ]
  },
  {
   "cell_type": "code",
   "execution_count": 1,
   "metadata": {},
   "outputs": [
    {
     "data": {
      "text/plain": [
       "'Sample 2'"
      ]
     },
     "execution_count": 1,
     "metadata": {},
     "output_type": "execute_result"
    }
   ],
   "source": [
    "# Your answer here \n",
    "\"Sample 2\""
   ]
  },
  {
   "cell_type": "markdown",
   "metadata": {},
   "source": [
    "## Exercise 2\n",
    "Consider the following ordered set of data\n",
    "```\n",
    "4 4 4 9 5 0 5 1 5 3 5 7 5 8 6 2\n",
    "\n",
    "6 6 6 6 6 8 7 1 7 5 7 7 8 0 8 5\n",
    "```\n",
    "\n",
    "* What is the IQR? \n",
    "* Optional extension: Verify your answer in Python "
   ]
  },
  {
   "cell_type": "code",
   "execution_count": 10,
   "metadata": {},
   "outputs": [
    {
     "name": "stdout",
     "output_type": "stream",
     "text": [
      "1.5 1.25\n"
     ]
    }
   ],
   "source": [
    "# Your answer here \n",
    "import numpy as np\n",
    "\n",
    "x1 = \"4 4 4 9 5 0 5 1 5 3 5 7 5 8 6 2\"\n",
    "x2 = \"6 6 6 6 6 8 7 1 7 5 7 7 8 0 8 5\"\n",
    "x1 = list(map(int, x1.split()))\n",
    "x2 = list(map(int, x2.split()))\n",
    "\n",
    "q75_1, q25_1 = np.percentile(x1,[75,25])\n",
    "IQR_1 = q75_1-q25_1\n",
    "\n",
    "q75_2, q25_2 = np.percentile(x2,[75,25])\n",
    "IQR_2 = q75_2-q25_2\n",
    "\n",
    "print(IQR_1, IQR_2)"
   ]
  },
  {
   "cell_type": "markdown",
   "metadata": {},
   "source": [
    "### Exercise 3\n",
    "Create a box-and-whisker plot for the judges' scores for an artist's performances in a talent competition.\n",
    "\n",
    "```\n",
    "Evan L\t52\n",
    "Nicole S  50\n",
    "Pamela A  47\n",
    "Chad O\t44\n",
    "Erin A\t39\n",
    "Jake P\t38\n",
    "Niecy N   36\n",
    "Kate G\t32\n",
    "```\n",
    "Create a box plot in matplotlib to identify the median for giving a final score to the artist. Are there any outliers ?"
   ]
  },
  {
   "cell_type": "code",
   "execution_count": 15,
   "metadata": {},
   "outputs": [
    {
     "data": {
      "image/png": "[encoded data removed]",
      "text/plain": [
       "<matplotlib.figure.Figure at 0x12185837828>"
      ]
     },
     "metadata": {},
     "output_type": "display_data"
    }
   ],
   "source": [
    "# Your answer here \n",
    "import matplotlib.pyplot as plt\n",
    "\n",
    "# Extract values from string\n",
    "comp = \"\"\"Evan L    52\n",
    "Nicole S  50\n",
    "Pamela A  47\n",
    "Chad O    44\n",
    "Erin A    39\n",
    "Jake P    38\n",
    "Niecy N   36\n",
    "Kate G    32\"\"\"\n",
    "comp_score = [int(n) for n in comp.split() if n.isdigit()]\n",
    "\n",
    "#Plot box\n",
    "plt.style.use('ggplot')\n",
    "plt.boxplot(comp_score)\n",
    "plt.title('Final Artist Score')\n",
    "plt.show()"
   ]
  },
  {
   "cell_type": "code",
   "execution_count": 17,
   "metadata": {},
   "outputs": [
    {
     "name": "stdout",
     "output_type": "stream",
     "text": [
      "There are no outliers\n"
     ]
    }
   ],
   "source": [
    "# # Your answer here \n",
    "print(\"There are no outliers\")"
   ]
  },
  {
   "cell_type": "markdown",
   "metadata": {},
   "source": [
    "### Exercise 4\n",
    "Imagine that the number of marriages registered over a 10 year period were as follows:\n",
    "\n",
    "Table 1.  Number of registered marriages\n",
    "```\n",
    "Year  Number of marriages\n",
    "\n",
    "1\t40,650\n",
    "2\t40,812\n",
    "3\t41,300\n",
    "4\t41,450\n",
    "5\t39,594\n",
    "6\t40,734\n",
    "7\t39,993\n",
    "8\t38,814\n",
    "9\t37,828\n",
    "10   35,716\n",
    "```\n",
    "Using the data above:\n",
    "\n",
    "####  Find the median "
   ]
  },
  {
   "cell_type": "code",
   "execution_count": 37,
   "metadata": {},
   "outputs": [
    {
     "name": "stdout",
     "output_type": "stream",
     "text": [
      "40321.5\n"
     ]
    }
   ],
   "source": [
    "# Your answer here \n",
    "import statistics\n",
    "\n",
    "marriages = \"\"\"\n",
    "Table 1. Number of registered marriages\n",
    "\n",
    "Year  Number of marriages\n",
    "\n",
    "1    40,650\n",
    "2    40,812\n",
    "3    41,300\n",
    "4    41,450\n",
    "5    39,594\n",
    "6    40,734\n",
    "7    39,993\n",
    "8    38,814\n",
    "9    37,828\n",
    "10   35,716\n",
    "\"\"\"\n",
    "marr_clean =marriages.replace(',','')\n",
    "num_marr = [int(n) for n in marr_clean.split() if n.isdigit()]\n",
    "num_marr_10 = [n for n in num_marr if n>10]\n",
    "\n",
    "med_marr = statistics.median(num_marr_10)\n",
    "print(med_marr)"
   ]
  },
  {
   "cell_type": "markdown",
   "metadata": {},
   "source": [
    "# Find the upper and lower quartiles\n"
   ]
  },
  {
   "cell_type": "code",
   "execution_count": 39,
   "metadata": {},
   "outputs": [
    {
     "name": "stdout",
     "output_type": "stream",
     "text": [
      "39009.0 40792.5\n"
     ]
    }
   ],
   "source": [
    "# Q1 = 38.814 Q3 = 40.812 \n",
    "# Your answer here \n",
    "import numpy as np\n",
    "Q1,Q2 = np.percentile(num_marr_10,[25,75])\n",
    "print(Q1,Q2)"
   ]
  },
  {
   "cell_type": "markdown",
   "metadata": {},
   "source": [
    "#### Calculate the interquartile range\n"
   ]
  },
  {
   "cell_type": "code",
   "execution_count": 40,
   "metadata": {},
   "outputs": [
    {
     "name": "stdout",
     "output_type": "stream",
     "text": [
      "1783.5\n"
     ]
    }
   ],
   "source": [
    "# Your answer here \n",
    "IQR = Q2-Q1\n",
    "print(IQR)"
   ]
  },
  {
   "cell_type": "markdown",
   "metadata": {},
   "source": [
    "#### Plot a boxplot to verify your answers"
   ]
  },
  {
   "cell_type": "code",
   "execution_count": 41,
   "metadata": {},
   "outputs": [
    {
     "data": {
      "image/png": "[encoded data removed]",
      "text/plain": [
       "<matplotlib.figure.Figure at 0x12185837588>"
      ]
     },
     "metadata": {},
     "output_type": "display_data"
    }
   ],
   "source": [
    "# Your answer here \n",
    "#Plot box\n",
    "plt.style.use('ggplot')\n",
    "plt.boxplot(num_marr_10)\n",
    "plt.title('Numbers of Marriages')\n",
    "plt.show()"
   ]
  }
 ],
 "metadata": {
  "kernelspec": {
   "display_name": "Python 3",
   "language": "python",
   "name": "python3"
  },
  "language_info": {
   "codemirror_mode": {
    "name": "ipython",
    "version": 3
   },
   "file_extension": ".py",
   "mimetype": "text/x-python",
   "name": "python",
   "nbconvert_exporter": "python",
   "pygments_lexer": "ipython3",
   "version": "3.6.6"
  }
 },
 "nbformat": 4,
 "nbformat_minor": 2
}
